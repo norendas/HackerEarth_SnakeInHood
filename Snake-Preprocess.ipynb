{
 "cells": [
  {
   "cell_type": "code",
   "execution_count": 22,
   "metadata": {},
   "outputs": [],
   "source": [
    "#preparing the train directory for keras\n",
    "\n",
    "import pandas as pd\n",
    "import shutil\n",
    "import os\n",
    "import sys\n",
    "\n",
    "labels = pd.read_csv('train.csv')"
   ]
  },
  {
   "cell_type": "code",
   "execution_count": 23,
   "metadata": {},
   "outputs": [],
   "source": [
    "#preparing the train directory for keras create individual subfolder as per snake classes\n",
    "# Create `train_sep` directory\n",
    "\n",
    "train_dir = 'train/' #original train data with images\n",
    "train_sep_dir = 'train_sep/' #create a new train_sep directory with sub folder as classes\n",
    "\n",
    "if not os.path.exists(train_sep_dir):\n",
    "    os.mkdir(train_sep_dir)\n",
    "    \n",
    "for filename, class_name in labels.values:\n",
    "    # Create subdirectory with `class_name`\n",
    "    if not os.path.exists(train_sep_dir + class_name):\n",
    "        os.mkdir(train_sep_dir + class_name)\n",
    "    src_path = train_dir + filename + '.jpg'\n",
    "    dst_path = train_sep_dir + class_name + '/' + filename + '.jpg'\n",
    "    try:\n",
    "        shutil.copy(src_path, dst_path)\n",
    "    except IOError as e:\n",
    "        print('Unable to copy file {} to {}'\n",
    "              .format(src_path, dst_path))\n",
    "    except:\n",
    "        print('When try copy file {} to {}, unexpected error: {}'\n",
    "              .format(src_path, dst_path, sys.exc_info()))\n"
   ]
  },
  {
   "cell_type": "code",
   "execution_count": 24,
   "metadata": {},
   "outputs": [
    {
     "name": "stdout",
     "output_type": "stream",
     "text": [
      "{'thamnophis-sirtalis': 509, 'storeria-dekayi': 412, 'pantherophis-obsoletus': 366, 'crotalus-atrox': 354, 'pituophis-catenifer': 298, 'nerodia-sipedon': 259, 'agkistrodon-contortrix': 206, 'lampropeltis-triangulum': 197, 'diadophis-punctatus': 184, 'pantherophis-alleghaniensis': 172, 'nerodia-erythrogaster': 171, 'lampropeltis-californiae': 166, 'opheodrys-aestivus': 152, 'agkistrodon-piscivorus': 147, 'crotalus-horridus': 142, 'coluber-constrictor': 129, 'heterodon-platirhinos': 118, 'thamnophis-proximus': 112, 'nerodia-rhombifer': 104, 'thamnophis-radix': 100, 'pantherophis-guttatus': 100, 'haldea-striatula': 98, 'pantherophis-spiloides': 92, 'rhinocheilus-lecontei': 91, 'storeria-occipitomaculata': 87, 'crotalus-viridis': 83, 'masticophis-flagellum': 83, 'thamnophis-marcianus': 82, 'crotalus-ruber': 77, 'nerodia-fasciata': 74, 'pantherophis-vulpinus': 73, 'natrix-natrix': 72, 'thamnophis-elegans': 69, 'pantherophis-emoryi': 66, 'crotalus-scutulatus': 63}\n"
     ]
    }
   ],
   "source": [
    "#create a dictionary of class and lable count\n",
    "res_dct = dict(zip(labels.breed.value_counts().index, labels.breed.value_counts()))\n",
    "print (res_dct)"
   ]
  },
  {
   "cell_type": "code",
   "execution_count": 25,
   "metadata": {},
   "outputs": [],
   "source": [
    "#load the library \n",
    "import cv2\n",
    "import numpy as np\n",
    "from skimage import io \n",
    "from skimage.transform import rotate, AffineTransform, warp\n",
    "import matplotlib.pyplot as plt\n",
    "import random\n",
    "from skimage import img_as_ubyte\n",
    "import os\n",
    "from skimage.util import random_noise"
   ]
  },
  {
   "cell_type": "code",
   "execution_count": 26,
   "metadata": {},
   "outputs": [],
   "source": [
    "#Lets define functions for each operation\n",
    "def anticlockwise_rotation(image):\n",
    "    angle= random.randint(0,180)\n",
    "    return rotate(image, angle)\n",
    "\n",
    "def clockwise_rotation(image):\n",
    "    angle= random.randint(0,180)\n",
    "    return rotate(image, -angle)\n",
    "\n",
    "def h_flip(image):\n",
    "    return  np.fliplr(image)\n",
    "\n",
    "def v_flip(image):\n",
    "    return np.flipud(image)\n",
    "\n",
    "def add_noise(image):\n",
    "    return random_noise(image)\n",
    "\n",
    "def blur_image(image):\n",
    "    return cv2.GaussianBlur(image, (9,9),0)\n",
    "\n",
    "#I would not recommend warp_shifting, because it distorts image, but can be used in many use case like \n",
    "#classifying blur and non-blur images\n",
    "def warp_shift(image): \n",
    "    transform = AffineTransform(translation=(0,40))  #chose x,y values according to your convinience\n",
    "    warp_image = warp(image, transform, mode=\"wrap\")\n",
    "    return warp_image"
   ]
  },
  {
   "cell_type": "code",
   "execution_count": 29,
   "metadata": {},
   "outputs": [],
   "source": [
    "transformations = {'rotate anticlockwise': anticlockwise_rotation,\n",
    "                   'rotate clockwise': clockwise_rotation,\n",
    "                   'horizontal flip': h_flip, \n",
    "                   'vertical flip': v_flip,\n",
    "                   'warp shift': warp_shift,\n",
    "                   'adding noise': add_noise,\n",
    "                   'blurring image':blur_image\n",
    "                 }                #use dictionary to store names of functions "
   ]
  },
  {
   "cell_type": "code",
   "execution_count": 31,
   "metadata": {},
   "outputs": [],
   "source": [
    "#create new augmented images to balance all the classes.\n",
    "\n",
    "for keys in res_dct:\n",
    "    images_path=\"./train_sep/\" + keys #path to original images\n",
    "    augmented_path=\"./train_sep/\" + keys # path to store aumented images\n",
    "    images=[] # to store paths of images from folder\n",
    "\n",
    "    if not os.path.exists(augmented_path):\n",
    "        os.mkdir(augmented_path)\n",
    "\n",
    "    for im in os.listdir(images_path):  # read image name from folder and append its path into \"images\" array     \n",
    "        images.append(os.path.join(images_path,im))\n",
    "\n",
    "    images_to_generate=509-int(res_dct[keys])  #you can change this value according to your requirement\n",
    "    i=1                        # variable to iterate till images_to_generate\n",
    "\n",
    "    while i<=images_to_generate:    \n",
    "        image=random.choice(images)\n",
    "        original_image = io.imread(image)\n",
    "        transformed_image=None\n",
    "    #     print(i)\n",
    "        n = 0       #variable to iterate till number of transformation to apply\n",
    "        transformation_count = random.randint(1, len(transformations)) #choose random number of transformation to apply on the image\n",
    "\n",
    "        while n <= transformation_count:\n",
    "            key = random.choice(list(transformations)) #randomly choosing method to call\n",
    "            transformed_image = transformations[key](original_image)\n",
    "            n = n + 1\n",
    "\n",
    "        new_image_path= \"%s/%s_%s.jpg\" %(augmented_path,keys, i)\n",
    "        transformed_image = img_as_ubyte(transformed_image)  #Convert an image to unsigned byte format, with values in [0, 255].\n",
    "        transformed_image=cv2.cvtColor(transformed_image, cv2.COLOR_BGR2RGB) #convert image to RGB before saving it\n",
    "        cv2.imwrite(new_image_path, transformed_image) # save transformed image to path\n",
    "        i =i+1\n"
   ]
  },
  {
   "cell_type": "code",
   "execution_count": 35,
   "metadata": {},
   "outputs": [
    {
     "name": "stdout",
     "output_type": "stream",
     "text": [
      "                            image_id                  breed\n",
      "0                     85090e4cc9.jpg      crotalus-horridus\n",
      "1          crotalus-horridus_327.jpg      crotalus-horridus\n",
      "2          crotalus-horridus_309.jpg      crotalus-horridus\n",
      "3                     952eeb79e2.jpg      crotalus-horridus\n",
      "4                     0a55e138dd.jpg      crotalus-horridus\n",
      "...                              ...                    ...\n",
      "17810  pantherophis-vulpinus_387.jpg  pantherophis-vulpinus\n",
      "17811  pantherophis-vulpinus_392.jpg  pantherophis-vulpinus\n",
      "17812  pantherophis-vulpinus_430.jpg  pantherophis-vulpinus\n",
      "17813  pantherophis-vulpinus_159.jpg  pantherophis-vulpinus\n",
      "17814  pantherophis-vulpinus_396.jpg  pantherophis-vulpinus\n",
      "\n",
      "[17815 rows x 2 columns]\n"
     ]
    }
   ],
   "source": [
    "#create new data-train-new.csv \n",
    "import os\n",
    "import pandas as pd\n",
    "df = pd.DataFrame()\n",
    "\n",
    "BASE_DIR = './train_sep'\n",
    "rows = []\n",
    "for folder in os.listdir(BASE_DIR):\n",
    " for images in os.listdir(os.path.join(BASE_DIR,folder)):\n",
    "    rows.append([images, folder])\n",
    "\n",
    "df = pd.DataFrame(rows, columns=[\"image_id\", \"breed\"])\n",
    "print(df)\n",
    "df.to_csv('train_new.csv', index=None)"
   ]
  },
  {
   "cell_type": "code",
   "execution_count": 33,
   "metadata": {},
   "outputs": [
    {
     "data": {
      "text/plain": [
       "lampropeltis-triangulum        509\n",
       "crotalus-atrox                 509\n",
       "thamnophis-radix               509\n",
       "storeria-occipitomaculata      509\n",
       "natrix-natrix                  509\n",
       "pantherophis-guttatus          509\n",
       "nerodia-rhombifer              509\n",
       "agkistrodon-piscivorus         509\n",
       "lampropeltis-californiae       509\n",
       "rhinocheilus-lecontei          509\n",
       "opheodrys-aestivus             509\n",
       "crotalus-viridis               509\n",
       "pantherophis-vulpinus          509\n",
       "crotalus-ruber                 509\n",
       "haldea-striatula               509\n",
       "pantherophis-spiloides         509\n",
       "diadophis-punctatus            509\n",
       "pituophis-catenifer            509\n",
       "thamnophis-proximus            509\n",
       "crotalus-horridus              509\n",
       "nerodia-fasciata               509\n",
       "masticophis-flagellum          509\n",
       "nerodia-erythrogaster          509\n",
       "coluber-constrictor            509\n",
       "pantherophis-alleghaniensis    509\n",
       "thamnophis-elegans             509\n",
       "crotalus-scutulatus            509\n",
       "thamnophis-sirtalis            509\n",
       "nerodia-sipedon                509\n",
       "heterodon-platirhinos          509\n",
       "pantherophis-emoryi            509\n",
       "thamnophis-marcianus           509\n",
       "storeria-dekayi                509\n",
       "pantherophis-obsoletus         509\n",
       "agkistrodon-contortrix         509\n",
       "Name: breed, dtype: int64"
      ]
     },
     "execution_count": 33,
     "metadata": {},
     "output_type": "execute_result"
    }
   ],
   "source": [
    "df.breed.value_counts()"
   ]
  },
  {
   "cell_type": "code",
   "execution_count": 34,
   "metadata": {},
   "outputs": [
    {
     "data": {
      "text/html": [
       "<div>\n",
       "<style scoped>\n",
       "    .dataframe tbody tr th:only-of-type {\n",
       "        vertical-align: middle;\n",
       "    }\n",
       "\n",
       "    .dataframe tbody tr th {\n",
       "        vertical-align: top;\n",
       "    }\n",
       "\n",
       "    .dataframe thead th {\n",
       "        text-align: right;\n",
       "    }\n",
       "</style>\n",
       "<table border=\"1\" class=\"dataframe\">\n",
       "  <thead>\n",
       "    <tr style=\"text-align: right;\">\n",
       "      <th></th>\n",
       "      <th>image_id</th>\n",
       "      <th>breed</th>\n",
       "    </tr>\n",
       "  </thead>\n",
       "  <tbody>\n",
       "    <tr>\n",
       "      <th>0</th>\n",
       "      <td>85090e4cc9.jpg</td>\n",
       "      <td>crotalus-horridus</td>\n",
       "    </tr>\n",
       "    <tr>\n",
       "      <th>1</th>\n",
       "      <td>crotalus-horridus_327.jpg</td>\n",
       "      <td>crotalus-horridus</td>\n",
       "    </tr>\n",
       "    <tr>\n",
       "      <th>2</th>\n",
       "      <td>crotalus-horridus_309.jpg</td>\n",
       "      <td>crotalus-horridus</td>\n",
       "    </tr>\n",
       "    <tr>\n",
       "      <th>3</th>\n",
       "      <td>952eeb79e2.jpg</td>\n",
       "      <td>crotalus-horridus</td>\n",
       "    </tr>\n",
       "    <tr>\n",
       "      <th>4</th>\n",
       "      <td>0a55e138dd.jpg</td>\n",
       "      <td>crotalus-horridus</td>\n",
       "    </tr>\n",
       "    <tr>\n",
       "      <th>...</th>\n",
       "      <td>...</td>\n",
       "      <td>...</td>\n",
       "    </tr>\n",
       "    <tr>\n",
       "      <th>17810</th>\n",
       "      <td>pantherophis-vulpinus_387.jpg</td>\n",
       "      <td>pantherophis-vulpinus</td>\n",
       "    </tr>\n",
       "    <tr>\n",
       "      <th>17811</th>\n",
       "      <td>pantherophis-vulpinus_392.jpg</td>\n",
       "      <td>pantherophis-vulpinus</td>\n",
       "    </tr>\n",
       "    <tr>\n",
       "      <th>17812</th>\n",
       "      <td>pantherophis-vulpinus_430.jpg</td>\n",
       "      <td>pantherophis-vulpinus</td>\n",
       "    </tr>\n",
       "    <tr>\n",
       "      <th>17813</th>\n",
       "      <td>pantherophis-vulpinus_159.jpg</td>\n",
       "      <td>pantherophis-vulpinus</td>\n",
       "    </tr>\n",
       "    <tr>\n",
       "      <th>17814</th>\n",
       "      <td>pantherophis-vulpinus_396.jpg</td>\n",
       "      <td>pantherophis-vulpinus</td>\n",
       "    </tr>\n",
       "  </tbody>\n",
       "</table>\n",
       "<p>17815 rows × 2 columns</p>\n",
       "</div>"
      ],
      "text/plain": [
       "                            image_id                  breed\n",
       "0                     85090e4cc9.jpg      crotalus-horridus\n",
       "1          crotalus-horridus_327.jpg      crotalus-horridus\n",
       "2          crotalus-horridus_309.jpg      crotalus-horridus\n",
       "3                     952eeb79e2.jpg      crotalus-horridus\n",
       "4                     0a55e138dd.jpg      crotalus-horridus\n",
       "...                              ...                    ...\n",
       "17810  pantherophis-vulpinus_387.jpg  pantherophis-vulpinus\n",
       "17811  pantherophis-vulpinus_392.jpg  pantherophis-vulpinus\n",
       "17812  pantherophis-vulpinus_430.jpg  pantherophis-vulpinus\n",
       "17813  pantherophis-vulpinus_159.jpg  pantherophis-vulpinus\n",
       "17814  pantherophis-vulpinus_396.jpg  pantherophis-vulpinus\n",
       "\n",
       "[17815 rows x 2 columns]"
      ]
     },
     "execution_count": 34,
     "metadata": {},
     "output_type": "execute_result"
    }
   ],
   "source": [
    "df"
   ]
  },
  {
   "cell_type": "code",
   "execution_count": 39,
   "metadata": {},
   "outputs": [],
   "source": [
    " #create new data-train-new.csv \n",
    "import os\n",
    "import pandas as pd\n",
    "df = pd.DataFrame()\n",
    "\n",
    "Source_DIR = './train_sep/'\n",
    "Target_DIR = './train_new/'\n",
    "rows = []\n",
    "for folder in os.listdir(Source_DIR):\n",
    "    for images in os.listdir(os.path.join(Source_DIR,folder)):\n",
    "        shutil.copy(Source_DIR+folder+\"/\"+images, Target_DIR+images)\n"
   ]
  },
  {
   "cell_type": "code",
   "execution_count": null,
   "metadata": {},
   "outputs": [],
   "source": []
  }
 ],
 "metadata": {
  "kernelspec": {
   "display_name": "Python 3",
   "language": "python",
   "name": "python3"
  },
  "language_info": {
   "codemirror_mode": {
    "name": "ipython",
    "version": 3
   },
   "file_extension": ".py",
   "mimetype": "text/x-python",
   "name": "python",
   "nbconvert_exporter": "python",
   "pygments_lexer": "ipython3",
   "version": "3.8.3"
  }
 },
 "nbformat": 4,
 "nbformat_minor": 4
}
