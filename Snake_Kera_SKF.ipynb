{
  "nbformat": 4,
  "nbformat_minor": 0,
  "metadata": {
    "colab": {
      "name": "Snake-Kera-SKF.ipynb",
      "provenance": []
    },
    "kernelspec": {
      "name": "python3",
      "display_name": "Python 3"
    },
    "accelerator": "GPU"
  },
  "cells": [
    {
      "cell_type": "code",
      "metadata": {
        "id": "u9cofEW6HuF5"
      },
      "source": [
        "!unzip '/content/drive/MyDrive/noren.zip'\n",
        "!unzip '/content/drive/MyDrive/test.zip'"
      ],
      "execution_count": null,
      "outputs": []
    },
    {
      "cell_type": "code",
      "metadata": {
        "id": "FQ2iZBHrhYkb"
      },
      "source": [
        "!unzip '/content/drive/MyDrive/8a95c26e1bab11eb.zip'"
      ],
      "execution_count": null,
      "outputs": []
    },
    {
      "cell_type": "code",
      "metadata": {
        "id": "ks4ZqfZRH5QY"
      },
      "source": [
        "import numpy as np\n",
        "import pandas as pd\n",
        "import os\n",
        "from sklearn.model_selection import KFold, StratifiedKFold\n",
        "import tensorflow as tf\n",
        "from tensorflow.keras.preprocessing.image import ImageDataGenerator\n",
        "\n",
        "import tensorflow.keras\n",
        "from tensorflow.keras.datasets import mnist\n",
        "from tensorflow.keras.models import Sequential\n",
        "from tensorflow.keras.layers import Dense, Dropout, Flatten\n",
        "from tensorflow.keras.layers import Conv2D, MaxPooling2D\n",
        "from tensorflow.keras import backend as K\n",
        "from tensorflow.keras.optimizers import SGD, RMSprop "
      ],
      "execution_count": 3,
      "outputs": []
    },
    {
      "cell_type": "code",
      "metadata": {
        "colab": {
          "base_uri": "https://localhost:8080/",
          "height": 424
        },
        "id": "vH745I0NIe9g",
        "outputId": "4732ba48-b8eb-4071-814c-a6d5dba64e24"
      },
      "source": [
        "train_data = pd.read_csv('/content/dataset/train.csv')\n",
        "train_data['img'] = train_data['image_id'] + \".jpg\"\n",
        "Y = train_data[['breed']]\n",
        "\n",
        "kf = KFold(n_splits = 5)          \n",
        "skf = StratifiedKFold(n_splits = 5, random_state = 7, shuffle = True) \n",
        "\n",
        "train_data"
      ],
      "execution_count": 14,
      "outputs": [
        {
          "output_type": "execute_result",
          "data": {
            "text/html": [
              "<div>\n",
              "<style scoped>\n",
              "    .dataframe tbody tr th:only-of-type {\n",
              "        vertical-align: middle;\n",
              "    }\n",
              "\n",
              "    .dataframe tbody tr th {\n",
              "        vertical-align: top;\n",
              "    }\n",
              "\n",
              "    .dataframe thead th {\n",
              "        text-align: right;\n",
              "    }\n",
              "</style>\n",
              "<table border=\"1\" class=\"dataframe\">\n",
              "  <thead>\n",
              "    <tr style=\"text-align: right;\">\n",
              "      <th></th>\n",
              "      <th>image_id</th>\n",
              "      <th>breed</th>\n",
              "      <th>img</th>\n",
              "    </tr>\n",
              "  </thead>\n",
              "  <tbody>\n",
              "    <tr>\n",
              "      <th>0</th>\n",
              "      <td>a8b3ad1dde</td>\n",
              "      <td>nerodia-erythrogaster</td>\n",
              "      <td>a8b3ad1dde.jpg</td>\n",
              "    </tr>\n",
              "    <tr>\n",
              "      <th>1</th>\n",
              "      <td>8b492b973d</td>\n",
              "      <td>pantherophis-vulpinus</td>\n",
              "      <td>8b492b973d.jpg</td>\n",
              "    </tr>\n",
              "    <tr>\n",
              "      <th>2</th>\n",
              "      <td>929b99ea92</td>\n",
              "      <td>thamnophis-sirtalis</td>\n",
              "      <td>929b99ea92.jpg</td>\n",
              "    </tr>\n",
              "    <tr>\n",
              "      <th>3</th>\n",
              "      <td>bbac7385e2</td>\n",
              "      <td>pantherophis-obsoletus</td>\n",
              "      <td>bbac7385e2.jpg</td>\n",
              "    </tr>\n",
              "    <tr>\n",
              "      <th>4</th>\n",
              "      <td>ef776b1488</td>\n",
              "      <td>agkistrodon-contortrix</td>\n",
              "      <td>ef776b1488.jpg</td>\n",
              "    </tr>\n",
              "    <tr>\n",
              "      <th>...</th>\n",
              "      <td>...</td>\n",
              "      <td>...</td>\n",
              "      <td>...</td>\n",
              "    </tr>\n",
              "    <tr>\n",
              "      <th>5503</th>\n",
              "      <td>5f0c970adf</td>\n",
              "      <td>lampropeltis-triangulum</td>\n",
              "      <td>5f0c970adf.jpg</td>\n",
              "    </tr>\n",
              "    <tr>\n",
              "      <th>5504</th>\n",
              "      <td>f6a4287fac</td>\n",
              "      <td>pantherophis-alleghaniensis</td>\n",
              "      <td>f6a4287fac.jpg</td>\n",
              "    </tr>\n",
              "    <tr>\n",
              "      <th>5505</th>\n",
              "      <td>d3c10e63e1</td>\n",
              "      <td>thamnophis-sirtalis</td>\n",
              "      <td>d3c10e63e1.jpg</td>\n",
              "    </tr>\n",
              "    <tr>\n",
              "      <th>5506</th>\n",
              "      <td>61ef50879c</td>\n",
              "      <td>pituophis-catenifer</td>\n",
              "      <td>61ef50879c.jpg</td>\n",
              "    </tr>\n",
              "    <tr>\n",
              "      <th>5507</th>\n",
              "      <td>4791d8bf9a</td>\n",
              "      <td>lampropeltis-triangulum</td>\n",
              "      <td>4791d8bf9a.jpg</td>\n",
              "    </tr>\n",
              "  </tbody>\n",
              "</table>\n",
              "<p>5508 rows × 3 columns</p>\n",
              "</div>"
            ],
            "text/plain": [
              "        image_id                        breed             img\n",
              "0     a8b3ad1dde        nerodia-erythrogaster  a8b3ad1dde.jpg\n",
              "1     8b492b973d        pantherophis-vulpinus  8b492b973d.jpg\n",
              "2     929b99ea92          thamnophis-sirtalis  929b99ea92.jpg\n",
              "3     bbac7385e2       pantherophis-obsoletus  bbac7385e2.jpg\n",
              "4     ef776b1488       agkistrodon-contortrix  ef776b1488.jpg\n",
              "...          ...                          ...             ...\n",
              "5503  5f0c970adf      lampropeltis-triangulum  5f0c970adf.jpg\n",
              "5504  f6a4287fac  pantherophis-alleghaniensis  f6a4287fac.jpg\n",
              "5505  d3c10e63e1          thamnophis-sirtalis  d3c10e63e1.jpg\n",
              "5506  61ef50879c          pituophis-catenifer  61ef50879c.jpg\n",
              "5507  4791d8bf9a      lampropeltis-triangulum  4791d8bf9a.jpg\n",
              "\n",
              "[5508 rows x 3 columns]"
            ]
          },
          "metadata": {
            "tags": []
          },
          "execution_count": 14
        }
      ]
    },
    {
      "cell_type": "code",
      "metadata": {
        "id": "dOXLVa55RFIv"
      },
      "source": [
        "idg = ImageDataGenerator(rescale=1./255, \n",
        "                         rotation_range=45,\n",
        "                         width_shift_range=0.3,\n",
        "                         height_shift_range=0.3,\n",
        "                         horizontal_flip=True,\n",
        "                         fill_mode='nearest')"
      ],
      "execution_count": 5,
      "outputs": []
    },
    {
      "cell_type": "code",
      "metadata": {
        "id": "Lld5hR9bJhx4"
      },
      "source": [
        "def get_model_name(k):\n",
        "    return 'model_'+str(k)+'.h5'"
      ],
      "execution_count": 16,
      "outputs": []
    },
    {
      "cell_type": "code",
      "metadata": {
        "id": "84wRixjmQ6en"
      },
      "source": [
        "VALIDATION_ACCURACY = []\n",
        "VALIDAITON_LOSS = []\n",
        "\n",
        "image_dir = '/content/dataset/train'\n",
        "fold_var = 1\n",
        "batch_size= 248\n",
        "\n",
        "for train_index, val_index in skf.split(np.zeros(5508),Y):\n",
        "  \n",
        "  training_data = train_data.iloc[train_index]\n",
        "  validation_data = train_data.iloc[val_index]\n",
        "  \n",
        "  train_data_generator = idg.flow_from_dataframe(training_data, directory = image_dir, \n",
        "                                                 x_col = \"img\", y_col = \"breed\", \n",
        "                                                 class_mode = \"categorical\", shuffle = True,\n",
        "                                                 target_size=(224, 224), batch_size=batch_size)\n",
        "  valid_data_generator = idg.flow_from_dataframe(validation_data, directory = image_dir, \n",
        "                                                 x_col = \"img\", y_col = \"breed\", \n",
        "                                                 class_mode = \"categorical\", shuffle = True,     \n",
        "                                                 target_size=(224, 224),batch_size=batch_size)\n",
        " \n",
        " \t# CREATE NEW MODEL\n",
        "  from keras.applications import MobileNet\n",
        "\n",
        "  # MobileNet was designed to work on 224 x 224 pixel input images sizes\n",
        "  img_rows, img_cols = 224, 224 \n",
        "\n",
        "  # Re-loads the MobileNet model without the top or FC layers\n",
        "  MobileNet = MobileNet(weights = 'imagenet', \n",
        "                        include_top = False, \n",
        "                        input_shape = (img_rows, img_cols, 3))\n",
        "\n",
        "  # Here we freeze the last 4 layers \n",
        "  # Layers are set to trainable as True by default\n",
        "  for layer in MobileNet.layers:\n",
        "      layer.trainable = False\n",
        "  \n",
        "  def addTopModelMobileNet(bottom_model, num_classes):\n",
        "    \"\"\"creates the top or head of the model that will be \n",
        "    placed ontop of the bottom layers\"\"\"\n",
        "\n",
        "    top_model = bottom_model.output\n",
        "    top_model = GlobalAveragePooling2D()(top_model)\n",
        "    top_model = Dense(1024,activation='relu')(top_model)\n",
        "    top_model = Dense(1024,activation='relu')(top_model)\n",
        "    top_model = Dense(512,activation='relu')(top_model)\n",
        "    top_model = Dense(num_classes,activation='softmax')(top_model)\n",
        "    return top_model\n",
        "  \n",
        "  from keras.models import Sequential\n",
        "  from keras.layers import Dense, Dropout, Activation, Flatten, GlobalAveragePooling2D\n",
        "  from keras.layers import Conv2D, MaxPooling2D, ZeroPadding2D\n",
        "  from keras.layers.normalization import BatchNormalization\n",
        "  from keras.models import Model\n",
        "\n",
        "  # Set our class number to 35 snake breed\n",
        "  num_classes = 35\n",
        "  FC_Head = addTopModelMobileNet(MobileNet, num_classes)\n",
        "  model = Model(inputs = MobileNet.input, outputs = FC_Head)\n",
        "  \n",
        "  # COMPILE NEW MODEL\n",
        "  # We use a very small learning rate \n",
        "  model.compile(loss = 'categorical_crossentropy', optimizer = RMSprop(lr = 0.001), metrics = ['accuracy'])\n",
        " \t# CREATE CALLBACKS\n",
        "  checkpoint = tf.keras.callbacks.ModelCheckpoint(get_model_name(fold_var),\n",
        "                                                  monitor='val_accuracy', verbose=1,\n",
        "                                                  save_best_only=True, mode='max')\n",
        " \n",
        "  earlystop = tf.keras.callbacks.EarlyStopping(monitor = 'val_loss',\n",
        "                                               min_delta = 0,\n",
        "                                               patience = 5,\n",
        "                                               verbose = 1,\n",
        "                                               restore_best_weights = True)\n",
        "\n",
        "  reduce_lr = tf.keras.callbacks.ReduceLROnPlateau(monitor = 'val_loss',\n",
        "                                                   factor = 0.2,\n",
        "                                                   patience = 3,\n",
        "                                                   verbose = 1,\n",
        "                                                   min_delta = 0.00001)\n",
        "  \n",
        "  callbacks_list = [checkpoint, earlystop, reduce_lr]\n",
        "\n",
        " \t# There can be other callbacks, but just showing one because it involves the model name\n",
        "\t# This saves the best model\n",
        "\t# FIT THE MODEL\n",
        "  \n",
        "  history = model.fit(train_data_generator, epochs=50, callbacks=callbacks_list,\n",
        "                      validation_data=valid_data_generator, batch_size=batch_size)\n",
        "  #PLOT HISTORY\n",
        "\t#\t\t:\n",
        "\t#\t\t:\n",
        "\t\n",
        "\t# LOAD BEST MODEL to evaluate the performance of the model\n",
        "  \n",
        "  model.load_weights(\"/content/model_\"+str(fold_var)+\".h5\")\n",
        "  \n",
        "  results = model.evaluate(valid_data_generator)\n",
        "  results = dict(zip(model.metrics_names,results))\n",
        "  \n",
        "  VALIDATION_ACCURACY.append(results['accuracy'])\n",
        "  # VALIDATION_LOSS.append(results['loss'])\n",
        "  \n",
        "  tf.keras.backend.clear_session()\n",
        "  fold_var += 1\n"
      ],
      "execution_count": null,
      "outputs": []
    },
    {
      "cell_type": "code",
      "metadata": {
        "colab": {
          "base_uri": "https://localhost:8080/"
        },
        "id": "9SLuEIm850sR",
        "outputId": "597ba2b2-43d6-4345-e53f-1c42fa2596be"
      },
      "source": [
        "VALIDATION_ACCURACY"
      ],
      "execution_count": 23,
      "outputs": [
        {
          "output_type": "execute_result",
          "data": {
            "text/plain": [
              "[0.274954617023468,\n",
              " 0.27767693996429443,\n",
              " 0.2813067138195038,\n",
              " 0.26248863339424133,\n",
              " 0.25522252917289734]"
            ]
          },
          "metadata": {
            "tags": []
          },
          "execution_count": 23
        }
      ]
    },
    {
      "cell_type": "code",
      "metadata": {
        "id": "Ajj06M8zTwgE"
      },
      "source": [
        "from keras.models import load_model\n",
        "\n",
        "classifier = load_model('/content/model_3.h5')"
      ],
      "execution_count": 24,
      "outputs": []
    },
    {
      "cell_type": "code",
      "metadata": {
        "id": "22Bj5OYLyCzm"
      },
      "source": [
        "#preparing the train directory for keras\n",
        "import tensorflow as tf\n",
        "\n",
        "import pandas as pd\n",
        "import shutil\n",
        "import os\n",
        "import sys\n",
        "from tqdm import tqdm\n",
        "import cv2\n",
        "import numpy as np\n",
        "\n",
        "test = pd.read_csv('/content/dataset/test.csv')\n",
        "IMG_SIZE = 224\n",
        "\n",
        "def read_img(img_path):\n",
        "    img = cv2.imread(img_path, cv2.IMREAD_COLOR)\n",
        "    img = cv2.resize(img, (IMG_SIZE, IMG_SIZE))\n",
        "    return img"
      ],
      "execution_count": 25,
      "outputs": []
    },
    {
      "cell_type": "code",
      "metadata": {
        "colab": {
          "base_uri": "https://localhost:8080/"
        },
        "id": "nmRssWczyJfR",
        "outputId": "efcb33e3-114c-49da-848e-d6a46e589767"
      },
      "source": [
        "test_img = []\n",
        "for img_name in tqdm(test['image_id'].values):\n",
        "    test_img.append(img_name + '.jpg')\n",
        "    \n",
        "test['image'] = test_img\n",
        "\n",
        "test_img = []\n",
        "for img_name in tqdm(test['image'].values): \n",
        "    test_img.append(read_img('/content/dataset/test/' + img_name))"
      ],
      "execution_count": 26,
      "outputs": [
        {
          "output_type": "stream",
          "text": [
            "100%|██████████| 2361/2361 [00:00<00:00, 958083.57it/s]\n",
            "100%|██████████| 2361/2361 [00:01<00:00, 1824.91it/s]\n"
          ],
          "name": "stderr"
        }
      ]
    },
    {
      "cell_type": "code",
      "metadata": {
        "id": "9w5CnwdiyROK"
      },
      "source": [
        "x_test = np.array(test_img, np.float32) / 255\n",
        "predictions = classifier.predict(x_test)\n",
        "y_classes = predictions.argmax(axis=-1)"
      ],
      "execution_count": 27,
      "outputs": []
    },
    {
      "cell_type": "code",
      "metadata": {
        "id": "_KcSCFI5ydkl"
      },
      "source": [
        "label_map = (train_data_generator.class_indices)\n",
        "rev_y = {v:k for k,v in label_map.items()}\n"
      ],
      "execution_count": 28,
      "outputs": []
    },
    {
      "cell_type": "code",
      "metadata": {
        "id": "KRhq6ylfykD3"
      },
      "source": [
        "output = pd.DataFrame({'image_id': test.image_id, 'breed': y_classes})\n",
        "output['breed'] = output['breed'].map(rev_y)"
      ],
      "execution_count": 29,
      "outputs": []
    },
    {
      "cell_type": "code",
      "metadata": {
        "colab": {
          "base_uri": "https://localhost:8080/",
          "height": 206
        },
        "id": "viLyNdJ3ypTV",
        "outputId": "944c0c4c-9f32-4242-e483-82dc94a7732b"
      },
      "source": [
        "filename = 'solution.csv'\n",
        "output.to_csv(filename, index=False) \n",
        "output.head()"
      ],
      "execution_count": 30,
      "outputs": [
        {
          "output_type": "execute_result",
          "data": {
            "text/html": [
              "<div>\n",
              "<style scoped>\n",
              "    .dataframe tbody tr th:only-of-type {\n",
              "        vertical-align: middle;\n",
              "    }\n",
              "\n",
              "    .dataframe tbody tr th {\n",
              "        vertical-align: top;\n",
              "    }\n",
              "\n",
              "    .dataframe thead th {\n",
              "        text-align: right;\n",
              "    }\n",
              "</style>\n",
              "<table border=\"1\" class=\"dataframe\">\n",
              "  <thead>\n",
              "    <tr style=\"text-align: right;\">\n",
              "      <th></th>\n",
              "      <th>image_id</th>\n",
              "      <th>breed</th>\n",
              "    </tr>\n",
              "  </thead>\n",
              "  <tbody>\n",
              "    <tr>\n",
              "      <th>0</th>\n",
              "      <td>7ede553357</td>\n",
              "      <td>nerodia-sipedon</td>\n",
              "    </tr>\n",
              "    <tr>\n",
              "      <th>1</th>\n",
              "      <td>3500b219e4</td>\n",
              "      <td>storeria-dekayi</td>\n",
              "    </tr>\n",
              "    <tr>\n",
              "      <th>2</th>\n",
              "      <td>d43a78d6d9</td>\n",
              "      <td>nerodia-sipedon</td>\n",
              "    </tr>\n",
              "    <tr>\n",
              "      <th>3</th>\n",
              "      <td>1f36f26994</td>\n",
              "      <td>diadophis-punctatus</td>\n",
              "    </tr>\n",
              "    <tr>\n",
              "      <th>4</th>\n",
              "      <td>8cb85fc58e</td>\n",
              "      <td>pituophis-catenifer</td>\n",
              "    </tr>\n",
              "  </tbody>\n",
              "</table>\n",
              "</div>"
            ],
            "text/plain": [
              "     image_id                breed\n",
              "0  7ede553357      nerodia-sipedon\n",
              "1  3500b219e4      storeria-dekayi\n",
              "2  d43a78d6d9      nerodia-sipedon\n",
              "3  1f36f26994  diadophis-punctatus\n",
              "4  8cb85fc58e  pituophis-catenifer"
            ]
          },
          "metadata": {
            "tags": []
          },
          "execution_count": 30
        }
      ]
    },
    {
      "cell_type": "code",
      "metadata": {
        "id": "AzayffL0_I2p"
      },
      "source": [
        ""
      ],
      "execution_count": null,
      "outputs": []
    }
  ]
}